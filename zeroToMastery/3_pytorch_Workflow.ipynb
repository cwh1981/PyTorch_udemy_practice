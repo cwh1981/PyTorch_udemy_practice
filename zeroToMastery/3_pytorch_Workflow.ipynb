{
  "nbformat": 4,
  "nbformat_minor": 0,
  "metadata": {
    "colab": {
      "private_outputs": true,
      "provenance": [],
      "authorship_tag": "ABX9TyMHWjr555afWLu/ExEukkxx",
      "include_colab_link": true
    },
    "kernelspec": {
      "name": "python3",
      "display_name": "Python 3"
    },
    "language_info": {
      "name": "python"
    }
  },
  "cells": [
    {
      "cell_type": "markdown",
      "metadata": {
        "id": "view-in-github",
        "colab_type": "text"
      },
      "source": [
        "<a href=\"https://colab.research.google.com/github/cwh1981/PyTorch_udemy_practice/blob/main/zeroToMastery/3_pytorch_Workflow.ipynb\" target=\"_parent\"><img src=\"https://colab.research.google.com/assets/colab-badge.svg\" alt=\"Open In Colab\"/></a>"
      ]
    },
    {
      "cell_type": "code",
      "source": [],
      "metadata": {
        "id": "K6lSdI7oX70o"
      },
      "execution_count": null,
      "outputs": []
    },
    {
      "cell_type": "markdown",
      "source": [
        "Zero to Mastery Learn PyTorch for Deep Learning  \n",
        "https://www.learnpytorch.io/01_pytorch_workflow/\n",
        "\n",
        "How does it do so?\n",
        "\n",
        "Through two main algorithms:\n",
        "\n",
        "Gradient descent - https://youtu.be/IHZwWFHWa-w  \n",
        "Backpropagation - https://youtu.be/Ilg3gGewQ5U"
      ],
      "metadata": {
        "id": "xvTbpwf1Yn_5"
      }
    },
    {
      "cell_type": "code",
      "execution_count": null,
      "metadata": {
        "id": "L-Ew9soEWe11"
      },
      "outputs": [],
      "source": [
        "from torch import nn\n",
        "\n",
        "#Create linear regression model class\n",
        "class LinearRegressionModel(nn.Module):\n",
        "  def __init__(self):\n",
        "    super.__init__()\n",
        "    self.weights = nn.Parameter(touch.randn(1,\n",
        "                                            requires_grad=True,\n",
        "                                            dtype=torch.float))\n",
        "    self.bias = nn.Parameter(torch.randn(1,\n",
        "                                         requires_grad=True,\n",
        "                                         dtype=torch.float))\n",
        "    # Forwad method to define the computation in the model\n",
        "    def forward(self, x: torch.Tensor) -> torch.Tensor:\n",
        "      return self.weights * x + self.bias"
      ]
    }
  ]
}